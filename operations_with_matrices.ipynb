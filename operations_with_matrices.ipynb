{
 "cells": [
  {
   "cell_type": "code",
   "execution_count": 1,
   "metadata": {},
   "outputs": [],
   "source": [
    "import numpy as np"
   ]
  },
  {
   "cell_type": "markdown",
   "metadata": {},
   "source": [
    "# Operações com matrizes\n"
   ]
  },
  {
   "cell_type": "markdown",
   "metadata": {},
   "source": [
    "#### Exercícios das páginas 11, 12 e 13"
   ]
  },
  {
   "cell_type": "code",
   "execution_count": 2,
   "metadata": {},
   "outputs": [
    {
     "data": {
      "text/plain": [
       "array([[ 1,  2,  3],\n",
       "       [ 2,  1, -1]])"
      ]
     },
     "execution_count": 2,
     "metadata": {},
     "output_type": "execute_result"
    }
   ],
   "source": [
    "a = np.array([[1, 2, 3],[2, 1, -1]])\n",
    "a"
   ]
  },
  {
   "cell_type": "code",
   "execution_count": 3,
   "metadata": {},
   "outputs": [
    {
     "data": {
      "text/plain": [
       "array([[-2,  0,  1],\n",
       "       [ 3,  0,  1]])"
      ]
     },
     "execution_count": 3,
     "metadata": {},
     "output_type": "execute_result"
    }
   ],
   "source": [
    "b = np.array([[-2, 0, 1],[3, 0, 1]])\n",
    "b"
   ]
  },
  {
   "cell_type": "code",
   "execution_count": 4,
   "metadata": {},
   "outputs": [
    {
     "data": {
      "text/plain": [
       "array([[-1],\n",
       "       [ 2],\n",
       "       [ 4]])"
      ]
     },
     "execution_count": 4,
     "metadata": {},
     "output_type": "execute_result"
    }
   ],
   "source": [
    "c = np.array([[-1],[2],[4]])\n",
    "c"
   ]
  },
  {
   "cell_type": "code",
   "execution_count": 5,
   "metadata": {},
   "outputs": [
    {
     "data": {
      "text/plain": [
       "array([ 2, -1])"
      ]
     },
     "execution_count": 5,
     "metadata": {},
     "output_type": "execute_result"
    }
   ],
   "source": [
    "d = np.array([2, -1])\n",
    "d"
   ]
  },
  {
   "cell_type": "markdown",
   "metadata": {},
   "source": [
    "### 1.a: A + B"
   ]
  },
  {
   "cell_type": "code",
   "execution_count": 6,
   "metadata": {},
   "outputs": [
    {
     "data": {
      "text/plain": [
       "array([[-1,  2,  4],\n",
       "       [ 5,  1,  0]])"
      ]
     },
     "execution_count": 6,
     "metadata": {},
     "output_type": "execute_result"
    }
   ],
   "source": [
    "a+b"
   ]
  },
  {
   "cell_type": "markdown",
   "metadata": {},
   "source": [
    "### 1.b: A.C"
   ]
  },
  {
   "cell_type": "code",
   "execution_count": 7,
   "metadata": {},
   "outputs": [
    {
     "data": {
      "text/plain": [
       "array([[15],\n",
       "       [-4]])"
      ]
     },
     "execution_count": 7,
     "metadata": {},
     "output_type": "execute_result"
    }
   ],
   "source": [
    "a.dot(c)"
   ]
  },
  {
   "cell_type": "markdown",
   "metadata": {},
   "source": [
    "### 1.c: B.C"
   ]
  },
  {
   "cell_type": "code",
   "execution_count": 8,
   "metadata": {},
   "outputs": [
    {
     "data": {
      "text/plain": [
       "array([[6],\n",
       "       [1]])"
      ]
     },
     "execution_count": 8,
     "metadata": {},
     "output_type": "execute_result"
    }
   ],
   "source": [
    "b.dot(c)"
   ]
  },
  {
   "cell_type": "markdown",
   "metadata": {},
   "source": [
    "### 1.d: D.A"
   ]
  },
  {
   "cell_type": "code",
   "execution_count": 9,
   "metadata": {},
   "outputs": [
    {
     "data": {
      "text/plain": [
       "array([0, 3, 7])"
      ]
     },
     "execution_count": 9,
     "metadata": {},
     "output_type": "execute_result"
    }
   ],
   "source": [
    "d.dot(a)"
   ]
  },
  {
   "cell_type": "markdown",
   "metadata": {},
   "source": [
    "### 1.f: D.B"
   ]
  },
  {
   "cell_type": "code",
   "execution_count": 10,
   "metadata": {},
   "outputs": [
    {
     "data": {
      "text/plain": [
       "array([-7,  0,  1])"
      ]
     },
     "execution_count": 10,
     "metadata": {},
     "output_type": "execute_result"
    }
   ],
   "source": [
    "d.dot(b)"
   ]
  },
  {
   "cell_type": "markdown",
   "metadata": {},
   "source": [
    "### 1.g: -A"
   ]
  },
  {
   "cell_type": "code",
   "execution_count": 11,
   "metadata": {},
   "outputs": [
    {
     "data": {
      "text/plain": [
       "array([[-1, -2, -3],\n",
       "       [-2, -1,  1]])"
      ]
     },
     "execution_count": 11,
     "metadata": {},
     "output_type": "execute_result"
    }
   ],
   "source": [
    "-a"
   ]
  },
  {
   "cell_type": "markdown",
   "metadata": {},
   "source": [
    "### 1.h: A.C"
   ]
  },
  {
   "cell_type": "code",
   "execution_count": 12,
   "metadata": {},
   "outputs": [
    {
     "data": {
      "text/plain": [
       "array([-2,  1])"
      ]
     },
     "execution_count": 12,
     "metadata": {},
     "output_type": "execute_result"
    }
   ],
   "source": [
    "-d"
   ]
  },
  {
   "cell_type": "markdown",
   "metadata": {},
   "source": [
    "### 2.Seja A = [[ 2 x**2], [2x-1  0]]. Se A.t = A, entao x ? ------- R: 1\n"
   ]
  },
  {
   "cell_type": "code",
   "execution_count": 13,
   "metadata": {},
   "outputs": [],
   "source": [
    "a = np.array([[2, 1**2], [2*1-1, 0]])"
   ]
  },
  {
   "cell_type": "code",
   "execution_count": 14,
   "metadata": {},
   "outputs": [
    {
     "name": "stdout",
     "output_type": "stream",
     "text": [
      "A:\n",
      "[[2 1]\n",
      " [1 0]]\n",
      "\n",
      "A.t:\n",
      "[[2 1]\n",
      " [1 0]]\n"
     ]
    }
   ],
   "source": [
    "print('A:')\n",
    "print(a)\n",
    "\n",
    "print('\\nA.t:')\n",
    "print(a.transpose())"
   ]
  },
  {
   "cell_type": "markdown",
   "metadata": {},
   "source": [
    "### 3. Se A é uma matriz simétrica, então A-A.t= ????? --------- R: Matriz Nula"
   ]
  },
  {
   "cell_type": "code",
   "execution_count": 15,
   "metadata": {},
   "outputs": [],
   "source": [
    "a = np.array([[4, 3, -1], [3, 2 ,0], [-1, 0, 5]])\n",
    "a_t = a.transpose() #transposta de a"
   ]
  },
  {
   "cell_type": "code",
   "execution_count": 16,
   "metadata": {},
   "outputs": [
    {
     "name": "stdout",
     "output_type": "stream",
     "text": [
      "A:\n",
      "[[ 4  3 -1]\n",
      " [ 3  2  0]\n",
      " [-1  0  5]]\n",
      "\n",
      "A.t:\n",
      "[[ 4  3 -1]\n",
      " [ 3  2  0]\n",
      " [-1  0  5]]\n",
      "\n",
      "A-A:\n",
      "[[0 0 0]\n",
      " [0 0 0]\n",
      " [0 0 0]]\n"
     ]
    }
   ],
   "source": [
    "print('A:')\n",
    "print(a)\n",
    "\n",
    "print('\\nA.t:')\n",
    "print(a_t)\n",
    "\n",
    "print('\\nA-A:')\n",
    "print(a-a)"
   ]
  },
  {
   "cell_type": "markdown",
   "metadata": {},
   "source": [
    "### 4. Se A é uma matriz triangular superior, então A.t = ? ----------- R: Matriz triangular inferior"
   ]
  },
  {
   "cell_type": "code",
   "execution_count": 17,
   "metadata": {},
   "outputs": [],
   "source": [
    "a = np.array([[4, 2, 1], [0, 2, 3], [0, 0, 5]])"
   ]
  },
  {
   "cell_type": "code",
   "execution_count": 18,
   "metadata": {},
   "outputs": [
    {
     "name": "stdout",
     "output_type": "stream",
     "text": [
      "A:\n",
      "[[4 2 1]\n",
      " [0 2 3]\n",
      " [0 0 5]]\n",
      "\n",
      "A.t:\n",
      "[[4 0 0]\n",
      " [2 2 0]\n",
      " [1 3 5]]\n"
     ]
    }
   ],
   "source": [
    "print('A:')\n",
    "print(a)\n",
    "\n",
    "print('\\nA.t:')\n",
    "print(a.transpose())"
   ]
  },
  {
   "cell_type": "markdown",
   "metadata": {},
   "source": [
    "### 5. Se A é uma matriz diagonal, então A.t=?  ------------------ R: A.t = A"
   ]
  },
  {
   "cell_type": "code",
   "execution_count": 19,
   "metadata": {},
   "outputs": [],
   "source": [
    "a = np.zeros((4,4), int)\n",
    "np.fill_diagonal(a,3)"
   ]
  },
  {
   "cell_type": "code",
   "execution_count": 20,
   "metadata": {},
   "outputs": [
    {
     "name": "stdout",
     "output_type": "stream",
     "text": [
      "A:\n",
      "[[3 0 0 0]\n",
      " [0 3 0 0]\n",
      " [0 0 3 0]\n",
      " [0 0 0 3]]\n",
      "\n",
      "A.t:\n",
      "[[3 0 0 0]\n",
      " [0 3 0 0]\n",
      " [0 0 3 0]\n",
      " [0 0 0 3]]\n"
     ]
    }
   ],
   "source": [
    "print('A:')\n",
    "print(a)\n",
    "\n",
    "print('\\nA.t:')\n",
    "print(a.transpose())"
   ]
  },
  {
   "cell_type": "markdown",
   "metadata": {},
   "source": [
    "### 6. Verdadeiro ou Falso:\n",
    "<h3> a) (-A).t = -(A.t) </h3>"
   ]
  },
  {
   "cell_type": "code",
   "execution_count": 21,
   "metadata": {},
   "outputs": [],
   "source": [
    "a = np.array([[1, -3, 2], [2, 1, -3], [4, -3, -1]])"
   ]
  },
  {
   "cell_type": "code",
   "execution_count": 22,
   "metadata": {},
   "outputs": [
    {
     "name": "stdout",
     "output_type": "stream",
     "text": [
      "A:\n",
      "[[ 1 -3  2]\n",
      " [ 2  1 -3]\n",
      " [ 4 -3 -1]]\n",
      "\n",
      "-(A).t: \n",
      "[[-1 -2 -4]\n",
      " [ 3 -1  3]\n",
      " [-2  3  1]]\n",
      "\n",
      "\n",
      "-(A.t): \n",
      "[[-1 -2 -4]\n",
      " [ 3 -1  3]\n",
      " [-2  3  1]]\n",
      "\n",
      "True\n"
     ]
    }
   ],
   "source": [
    "print('A:')\n",
    "print(a)\n",
    "\n",
    "print('\\n-(A).t: \\n{}\\n'.format((-a).transpose()))\n",
    "print('\\n-(A.t): \\n{}\\n'.format(-(a.transpose())))\n",
    "\n",
    "print(np.array_equal((-a).transpose(),-(a.transpose())))"
   ]
  },
  {
   "cell_type": "markdown",
   "metadata": {},
   "source": [
    "### b) (A+B.t) = B.t + A.t"
   ]
  },
  {
   "cell_type": "code",
   "execution_count": 23,
   "metadata": {},
   "outputs": [],
   "source": [
    "a = np.array([[2, -3, -5], [-1, 4, 5], [1, -3, -4]])\n",
    "b = np.array([[-1, 3, 5], [1, -3, -5], [-1, 3, 5]])"
   ]
  },
  {
   "cell_type": "code",
   "execution_count": 24,
   "metadata": {},
   "outputs": [
    {
     "name": "stdout",
     "output_type": "stream",
     "text": [
      "A:\n",
      "[[ 2 -3 -5]\n",
      " [-1  4  5]\n",
      " [ 1 -3 -4]]\n",
      "B:\n",
      "[[-1  3  5]\n",
      " [ 1 -3 -5]\n",
      " [-1  3  5]]\n",
      "\n",
      "(A+B.t):\n",
      "[[1 0 0]\n",
      " [0 1 0]\n",
      " [0 0 1]]\n",
      "\n",
      "B.t + A.t:\n",
      "[[1 0 0]\n",
      " [0 1 0]\n",
      " [0 0 1]]\n",
      "\n",
      "\n",
      "True\n"
     ]
    }
   ],
   "source": [
    "print('A:')\n",
    "print(a)\n",
    "print('B:')\n",
    "print(b)\n",
    "\n",
    "print('\\n(A+B.t):')\n",
    "print((a+b).transpose())\n",
    "\n",
    "print('\\nB.t + A.t:')\n",
    "print((b.transpose()) + (a.transpose()))\n",
    "\n",
    "print('\\n')\n",
    "print(np.array_equal((a+b).transpose(), ((b.transpose()) + (a.transpose()))))"
   ]
  },
  {
   "cell_type": "markdown",
   "metadata": {},
   "source": [
    "### c) Se A.B = 0, então A=0 ou B=0"
   ]
  },
  {
   "cell_type": "code",
   "execution_count": 33,
   "metadata": {},
   "outputs": [
    {
     "data": {
      "text/plain": [
       "False"
      ]
     },
     "execution_count": 33,
     "metadata": {},
     "output_type": "execute_result"
    }
   ],
   "source": [
    "False"
   ]
  },
  {
   "cell_type": "markdown",
   "metadata": {},
   "source": [
    "### d) (k1.A).(k2.B) = (k1.k2).A.B"
   ]
  },
  {
   "cell_type": "code",
   "execution_count": 26,
   "metadata": {},
   "outputs": [],
   "source": [
    "k1 = 2\n",
    "k2 = 3\n",
    "a = np.array([[2, -3, -5], [-1, 4, 5], [1, -3, -4]])\n",
    "b = np.array([[-1, 3, 5], [1, -3, -5], [-1, 3, 5]])"
   ]
  },
  {
   "cell_type": "code",
   "execution_count": 27,
   "metadata": {},
   "outputs": [
    {
     "name": "stdout",
     "output_type": "stream",
     "text": [
      "A: \n",
      " [[ 2 -3 -5]\n",
      " [-1  4  5]\n",
      " [ 1 -3 -4]]\n",
      "B: \n",
      " [[-1  3  5]\n",
      " [ 1 -3 -5]\n",
      " [-1  3  5]]\n",
      "\n",
      "(k1.A).(k2.B): \n",
      "[[0 0 0]\n",
      " [0 0 0]\n",
      " [0 0 0]]\n",
      "\n",
      "(k1.k2).A.B: \n",
      "[[0 0 0]\n",
      " [0 0 0]\n",
      " [0 0 0]]\n",
      "\n",
      "True\n"
     ]
    }
   ],
   "source": [
    "print('A: \\n {}'.format(a))\n",
    "print('B: \\n {}\\n'.format(b))\n",
    "\n",
    "print('(k1.A).(k2.B): \\n{}\\n'.format(np.dot((k1*a),(k2*b))))\n",
    "print('(k1.k2).A.B: \\n{}\\n'.format((k1*k2)*np.dot(a,b)))\n",
    "\n",
    "print(np.array_equal(np.dot((k1*a),(k2*b)), (k1*k2)*np.dot(a,b)))"
   ]
  },
  {
   "cell_type": "markdown",
   "metadata": {},
   "source": [
    "### e) (-A).(-B) = -(A.B)"
   ]
  },
  {
   "cell_type": "code",
   "execution_count": 28,
   "metadata": {},
   "outputs": [],
   "source": [
    "a = np.array([[-2, 2, 4], [1, -3, -4], [-1, 2, 3]])\n",
    "b = np.array([[-1, 3, -2], [-2, -1, 3], [-4, 3, 1]])"
   ]
  },
  {
   "cell_type": "code",
   "execution_count": 29,
   "metadata": {},
   "outputs": [
    {
     "name": "stdout",
     "output_type": "stream",
     "text": [
      "A: \n",
      " [[-2  2  4]\n",
      " [ 1 -3 -4]\n",
      " [-1  2  3]]\n",
      "B: \n",
      " [[-1  3 -2]\n",
      " [-2 -1  3]\n",
      " [-4  3  1]]\n",
      "\n",
      "(-A).(-B) : \n",
      "[[-18   4  14]\n",
      " [ 21  -6 -15]\n",
      " [-15   4  11]]\n",
      "\n",
      "-(A.B): \n",
      "[[ 18  -4 -14]\n",
      " [-21   6  15]\n",
      " [ 15  -4 -11]]\n",
      "\n",
      "False\n"
     ]
    }
   ],
   "source": [
    "print('A: \\n {}'.format(a))\n",
    "print('B: \\n {}\\n'.format(b))\n",
    "\n",
    "print('(-A).(-B) : \\n{}\\n'.format(np.dot(-a,-b)))\n",
    "\n",
    "print('-(A.B): \\n{}\\n'.format(-(np.dot(a,b))))\n",
    "\n",
    "print(np.array_equal(np.dot(-a,-b), -(np.dot(a,b))))"
   ]
  },
  {
   "cell_type": "markdown",
   "metadata": {},
   "source": [
    "### f) Se A e B são matrizes simétricas, então A.B = B.A"
   ]
  },
  {
   "cell_type": "code",
   "execution_count": 30,
   "metadata": {},
   "outputs": [
    {
     "data": {
      "text/plain": [
       "False"
      ]
     },
     "execution_count": 30,
     "metadata": {},
     "output_type": "execute_result"
    }
   ],
   "source": [
    "False"
   ]
  },
  {
   "cell_type": "markdown",
   "metadata": {},
   "source": [
    "### g) Se A.B = 0 então B.A = 0"
   ]
  },
  {
   "cell_type": "code",
   "execution_count": 31,
   "metadata": {},
   "outputs": [
    {
     "data": {
      "text/plain": [
       "False"
      ]
     },
     "execution_count": 31,
     "metadata": {},
     "output_type": "execute_result"
    }
   ],
   "source": [
    "False"
   ]
  },
  {
   "cell_type": "markdown",
   "metadata": {},
   "source": [
    "### h) Se podemos efeturar o produto A.A então A é uma matriz quadrada"
   ]
  },
  {
   "cell_type": "code",
   "execution_count": 32,
   "metadata": {},
   "outputs": [
    {
     "data": {
      "text/plain": [
       "True"
      ]
     },
     "execution_count": 32,
     "metadata": {},
     "output_type": "execute_result"
    }
   ],
   "source": [
    "True"
   ]
  },
  {
   "cell_type": "code",
   "execution_count": null,
   "metadata": {},
   "outputs": [],
   "source": []
  }
 ],
 "metadata": {
  "kernelspec": {
   "display_name": "Python 3",
   "language": "python",
   "name": "python3"
  },
  "language_info": {
   "codemirror_mode": {
    "name": "ipython",
    "version": 3
   },
   "file_extension": ".py",
   "mimetype": "text/x-python",
   "name": "python",
   "nbconvert_exporter": "python",
   "pygments_lexer": "ipython3",
   "version": "3.5.3"
  }
 },
 "nbformat": 4,
 "nbformat_minor": 2
}
